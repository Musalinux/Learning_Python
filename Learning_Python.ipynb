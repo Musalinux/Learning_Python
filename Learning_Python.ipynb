{
  "nbformat": 4,
  "nbformat_minor": 0,
  "metadata": {
    "colab": {
      "provenance": [],
      "authorship_tag": "ABX9TyNxocB8pzYSNYcyMxT2Skcc",
      "include_colab_link": true
    },
    "kernelspec": {
      "name": "python3",
      "display_name": "Python 3"
    },
    "language_info": {
      "name": "python"
    }
  },
  "cells": [
    {
      "cell_type": "markdown",
      "metadata": {
        "id": "view-in-github",
        "colab_type": "text"
      },
      "source": [
        "<a href=\"https://colab.research.google.com/github/Musalinux/Learning_Python/blob/main/Learning_Python.ipynb\" target=\"_parent\"><img src=\"https://colab.research.google.com/assets/colab-badge.svg\" alt=\"Open In Colab\"/></a>"
      ]
    },
    {
      "cell_type": "markdown",
      "source": [
        "# Hello World"
      ],
      "metadata": {
        "id": "zMdwE-_-M7r_"
      }
    },
    {
      "cell_type": "code",
      "execution_count": 2,
      "metadata": {
        "colab": {
          "base_uri": "https://localhost:8080/"
        },
        "id": "I6APsjhz96Yr",
        "outputId": "d03caef4-358d-48e6-b162-20e7e2b46058"
      },
      "outputs": [
        {
          "output_type": "stream",
          "name": "stdout",
          "text": [
            "Hello world\n",
            "10 20 Python AWS\n"
          ]
        }
      ],
      "source": [
        "print(\"Hello world\")\n",
        "\n",
        "x=10\n",
        "y= 20\n",
        "\n",
        "name = \"Python AWS\"\n",
        "\n",
        "print(x, y, name)"
      ]
    },
    {
      "cell_type": "markdown",
      "source": [
        "# Loops"
      ],
      "metadata": {
        "id": "ARYP2_f6-Tw2"
      }
    },
    {
      "cell_type": "code",
      "source": [
        "fruits = [\"Apple\", \"Mango\", \"Banana\", ]\n",
        "for fruit in fruits:\n",
        "  print(fruit)"
      ],
      "metadata": {
        "colab": {
          "base_uri": "https://localhost:8080/"
        },
        "id": "ZiLjfwq_-TPZ",
        "outputId": "9b46bbf7-d263-4636-aedc-0e1d4fdacc96"
      },
      "execution_count": 3,
      "outputs": [
        {
          "output_type": "stream",
          "name": "stdout",
          "text": [
            "Apple\n",
            "Mango\n",
            "Banana\n"
          ]
        }
      ]
    },
    {
      "cell_type": "markdown",
      "source": [
        "# Arithmetic Functions"
      ],
      "metadata": {
        "id": "-jiOqtSm-ox3"
      }
    },
    {
      "cell_type": "code",
      "source": [
        "def add(a, b):\n",
        "  return a + b\n",
        "\n",
        "def subtract(a, b):\n",
        "  return a - b\n",
        "\n",
        "def multiply(a, b):\n",
        "  return a * b\n",
        "\n",
        "def divide(a, b):\n",
        "  return a / b\n",
        "\n",
        "print(add(10, 20))\n",
        "print(subtract(20,5))\n",
        "print(multiply(2,5))\n",
        "print(divide(10,2))"
      ],
      "metadata": {
        "colab": {
          "base_uri": "https://localhost:8080/"
        },
        "id": "mDd57WeP-pyN",
        "outputId": "82034b58-e2f6-4718-b577-87a3007318d8"
      },
      "execution_count": 4,
      "outputs": [
        {
          "output_type": "stream",
          "name": "stdout",
          "text": [
            "30\n",
            "15\n",
            "10\n",
            "5.0\n"
          ]
        }
      ]
    },
    {
      "cell_type": "markdown",
      "source": [
        "# Reading a File"
      ],
      "metadata": {
        "id": "qTeCZSXx_R75"
      }
    },
    {
      "cell_type": "code",
      "source": [
        "with open(\"sample.txt\", \"r\") as file:\n",
        "  content = file.read()\n",
        "  print(content)"
      ],
      "metadata": {
        "id": "Iu7fQSbh_T2Y"
      },
      "execution_count": null,
      "outputs": []
    },
    {
      "cell_type": "markdown",
      "source": [
        "# String Concatenation"
      ],
      "metadata": {
        "id": "gHH03MXPGQOh"
      }
    },
    {
      "cell_type": "code",
      "source": [
        "print(\"10 days are \" + str(5) + \" minutes\" )  # This works up until v3.6\n",
        "print(f\"20 days are {10} minutes\")  ## This works from python v3.6 and above."
      ],
      "metadata": {
        "colab": {
          "base_uri": "https://localhost:8080/"
        },
        "id": "bPTSQhooFvgq",
        "outputId": "338f9387-f98c-4aa1-a988-a1a0aece5fc3"
      },
      "execution_count": 9,
      "outputs": [
        {
          "output_type": "stream",
          "name": "stdout",
          "text": [
            "10 days are 5 minutes\n",
            "20 days are 10 minutes\n"
          ]
        }
      ]
    },
    {
      "cell_type": "code",
      "source": [
        "x = 20*4*10\n",
        "\n",
        "name_of_unit = \"seconds\"\n",
        "\n",
        "print(f\"20 days are {20 * x} {name_of_unit}\")\n",
        "print(f\"30 days are {30 * x} {name_of_unit}\")\n",
        "print(f\"40 days are {40 * x} {name_of_unit}\")\n",
        "\n"
      ],
      "metadata": {
        "colab": {
          "base_uri": "https://localhost:8080/"
        },
        "id": "OrXyrNM1ca2k",
        "outputId": "1e1fd605-9fce-4b40-cbeb-c37c62434fab"
      },
      "execution_count": 11,
      "outputs": [
        {
          "output_type": "stream",
          "name": "stdout",
          "text": [
            "20 days are 16000 seconds\n",
            "30 days are 24000 seconds\n",
            "40 days are 32000 seconds\n"
          ]
        }
      ]
    },
    {
      "cell_type": "code",
      "source": [
        "x = 20*4*10\n",
        "\n",
        "name_of_unit = \"seconds\"\n",
        "\n",
        "def days_to_units(num_of_days, custom_message):\n",
        "  print(f\"{num_of_days} days are {num_of_days * x} {name_of_unit}\")\n",
        "  print(custom_message)\n",
        "\n",
        "days_to_units(10, \"Awesome\")\n",
        "days_to_units(20, \"LGTM\")\n",
        "days_to_units(30, \"yay\")\n",
        "days_to_units(40, \"lets go\")"
      ],
      "metadata": {
        "colab": {
          "base_uri": "https://localhost:8080/"
        },
        "id": "70SgYtbefoAH",
        "outputId": "1fdcca19-ce36-45b9-dac3-79c762691a88"
      },
      "execution_count": 18,
      "outputs": [
        {
          "output_type": "stream",
          "name": "stdout",
          "text": [
            "10 days are 8000 seconds\n",
            "Awesome\n",
            "20 days are 16000 seconds\n",
            "LGTM\n",
            "30 days are 24000 seconds\n",
            "yay\n",
            "40 days are 32000 seconds\n",
            "lets go\n"
          ]
        }
      ]
    },
    {
      "cell_type": "markdown",
      "source": [
        "# Input function"
      ],
      "metadata": {
        "id": "lDylkzlhoLOI"
      }
    },
    {
      "cell_type": "code",
      "source": [
        "x = 24*60\n",
        "\n",
        "name_of_unit = \"seconds\"\n",
        "\n",
        "def days_to_units(num_of_days, custom_message):\n",
        "  print(f\"{num_of_days} days are {num_of_days * x} {name_of_unit}\")\n",
        "  print(custom_message)\n",
        "\n",
        "\n",
        "my_var = days_to_units(20, \"Awesome\")"
      ],
      "metadata": {
        "colab": {
          "base_uri": "https://localhost:8080/"
        },
        "id": "Uy-PJIV-oKId",
        "outputId": "d00d23dc-11d3-4d40-fd4f-9694ece8194b"
      },
      "execution_count": 23,
      "outputs": [
        {
          "output_type": "stream",
          "name": "stdout",
          "text": [
            "Enter number of days and I wil convert to hours\n",
            "10\n",
            "10\n"
          ]
        }
      ]
    },
    {
      "cell_type": "markdown",
      "source": [
        "# Input Function."
      ],
      "metadata": {
        "id": "RxWJGeUsbSW4"
      }
    },
    {
      "cell_type": "code",
      "source": [
        "calculation_to_units = 24\n",
        "name_of_unit = \"hours\"\n",
        "\n",
        "def days_to_units(num_of_days):\n",
        "  return f\"{num_of_days} days are {num_of_days * calculation_to_units} {name_of_unit}\"\n",
        "\n",
        "\n",
        "user_input = input(\"Enter the number of days:\\n\")\n",
        "user_entered_input = int(user_input)\n",
        "calculated_value = days_to_units(user_entered_input)\n",
        "print(calculated_value)"
      ],
      "metadata": {
        "colab": {
          "base_uri": "https://localhost:8080/"
        },
        "id": "v67jtCuEoc9A",
        "outputId": "62484476-a918-4466-e37c-ff62ad5adfbe"
      },
      "execution_count": 8,
      "outputs": [
        {
          "output_type": "stream",
          "name": "stdout",
          "text": [
            "Enter the number of days:\n",
            "10\n",
            "10 days are 240 hours\n"
          ]
        }
      ]
    },
    {
      "cell_type": "code",
      "source": [
        "time_to_hours = 60\n",
        "unit_name = \"minutes\"\n",
        "\n",
        "def days_to_minutes(number_of_days):\n",
        "  return f\"{number_of_days} hour is {time_to_hours * number_of_days} {unit_name}\"\n",
        "\n",
        "user_input = input (\"Enter number of days:\\n\")\n",
        "modified_user_input = int(user_input)\n",
        "final_calculation = days_to_minutes(modified_user_input)\n",
        "print(final_calculation)"
      ],
      "metadata": {
        "colab": {
          "base_uri": "https://localhost:8080/"
        },
        "id": "Xvi6ezs4ea6l",
        "outputId": "8e8fe78f-208d-4872-8a96-969656bcd6c0"
      },
      "execution_count": 17,
      "outputs": [
        {
          "output_type": "stream",
          "name": "stdout",
          "text": [
            "Enter number of days:\n",
            "1\n",
            "1 hour is 60 minutes\n"
          ]
        }
      ]
    },
    {
      "cell_type": "markdown",
      "source": [
        "# My First program I fully wrote!"
      ],
      "metadata": {
        "id": "LYz5GwxrjGza"
      }
    },
    {
      "cell_type": "code",
      "source": [
        "time_in_days = 24\n",
        "new_name = \"hours\"\n",
        "\n",
        "def hours_in_days(number_of_days):\n",
        "  # conditional_check = number_of_days > 0\n",
        "  # type (conditional_check)\n",
        "  # print(type(conditional_check))\n",
        "      return f\"{number_of_days} is {number_of_days * time_in_days} {new_name}\"\n",
        "\n",
        "def validate_and_execute():\n",
        "    try:\n",
        "        casting_input = int(number_of_days_element)\n",
        "        if casting_input > 0:\n",
        "            calculated_in_hours = hours_in_days(int(casting_input))\n",
        "            print(calculated_in_hours)\n",
        "        elif casting_input == 0:\n",
        "            print(\"you entered 0, please provide a positive value.\")\n",
        "        else:\n",
        "            print (f\"The number you entered {number_of_days_element} is a negative number, please provide a positive value.\")\n",
        "    except:\n",
        "        print(\"This is not a valid number, dont mess up my code\")\n",
        "\n",
        "user_input = \"\"\n",
        "while user_input != \"exit\":\n",
        "    user_input = input(\"Enter the number of days, I will convert it to hours!\\n\")\n",
        "    for number_of_days_element in user_input.split(\",\"):\n",
        "        validate_and_execute()"
      ],
      "metadata": {
        "colab": {
          "base_uri": "https://localhost:8080/"
        },
        "id": "xwO8-aVNhXin",
        "outputId": "736b675b-0c0c-4f70-d512-40a670e0c8ab"
      },
      "execution_count": 101,
      "outputs": [
        {
          "output_type": "stream",
          "name": "stdout",
          "text": [
            "Enter the number of days, I will convert it to hours!\n",
            "10, 0, -10, musa\n",
            "10 is 240 hours\n",
            "you entered 0, please provide a positive value.\n",
            "The number you entered  -10 is a negative number, please provide a positive value.\n",
            "This is not a valid number, dont mess up my code\n",
            "Enter the number of days, I will convert it to hours!\n",
            "exit\n",
            "This is not a valid number, dont mess up my code\n"
          ]
        }
      ]
    },
    {
      "cell_type": "code",
      "source": [],
      "metadata": {
        "id": "fAZJJanUjJrP"
      },
      "execution_count": null,
      "outputs": []
    },
    {
      "cell_type": "markdown",
      "source": [
        "# List Function and its operations."
      ],
      "metadata": {
        "id": "azFwr3HMEQFz"
      }
    },
    {
      "cell_type": "code",
      "source": [
        "my_list = [\"January\", \"February\", \"March\"]\n",
        "print(my_list[1])"
      ],
      "metadata": {
        "colab": {
          "base_uri": "https://localhost:8080/"
        },
        "id": "vbeE1TbvERQq",
        "outputId": "f50f5a6a-fbee-4593-fb80-2e10cd27a3fb"
      },
      "execution_count": 102,
      "outputs": [
        {
          "output_type": "stream",
          "name": "stdout",
          "text": [
            "February\n"
          ]
        }
      ]
    },
    {
      "cell_type": "markdown",
      "source": [
        "# Add to list"
      ],
      "metadata": {
        "id": "FCrjDsmTJlyz"
      }
    },
    {
      "cell_type": "code",
      "source": [
        "my_list = [\"January\", \"February\", \"March\"]\n",
        "print(my_list)\n",
        "\n",
        "my_list.append(\"April\")\n",
        "print(my_list)\n",
        "\n",
        "\n",
        "## Add to specific index\n",
        "\n",
        "my_list.insert(2, 'Mango')\n",
        "print(my_list)\n",
        "\n",
        "fruits = [\"Apple\", \"banana\", \"cherry\"]\n",
        "\n",
        "my_list.extend(fruits)\n",
        "print(my_list)"
      ],
      "metadata": {
        "colab": {
          "base_uri": "https://localhost:8080/"
        },
        "id": "cur9YOk_JmiU",
        "outputId": "f316a7bb-bc8c-4e1b-d186-8fec4ef8f775"
      },
      "execution_count": 108,
      "outputs": [
        {
          "output_type": "stream",
          "name": "stdout",
          "text": [
            "['January', 'February', 'March']\n",
            "['January', 'February', 'March', 'April']\n",
            "['January', 'February', 'Mango', 'March', 'April']\n",
            "['January', 'February', 'Mango', 'March', 'April', 'Apple', 'banana', 'cherry']\n"
          ]
        }
      ]
    },
    {
      "cell_type": "markdown",
      "source": [
        "# Change Item"
      ],
      "metadata": {
        "id": "GdI8L64RKbQK"
      }
    },
    {
      "cell_type": "code",
      "source": [
        "fruits = [\"Apple\", \"banana\", \"cherry\"]\n",
        "print(fruits)\n",
        "\n",
        "fruits[1] = 'Watermelon'\n",
        "fruits[2] = 'pineapple'\n",
        "\n",
        "print(fruits)"
      ],
      "metadata": {
        "colab": {
          "base_uri": "https://localhost:8080/"
        },
        "id": "BHo9KKf2KdHr",
        "outputId": "5fed099d-a223-43e6-afcf-ef1aa83cfe03"
      },
      "execution_count": 109,
      "outputs": [
        {
          "output_type": "stream",
          "name": "stdout",
          "text": [
            "['Apple', 'banana', 'cherry']\n",
            "['Apple', 'Watermelon', 'pineapple']\n"
          ]
        }
      ]
    },
    {
      "cell_type": "markdown",
      "source": [
        "# Remove Item"
      ],
      "metadata": {
        "id": "21N1CyDCKvZm"
      }
    },
    {
      "cell_type": "code",
      "source": [
        "new_fruits = [\"Apple\", \"banana\", \"cherry\", \"Kiwi\", \"grapes\"]\n",
        "print(new_fruits)\n",
        "\n",
        "new_fruits.remove(\"banana\")\n",
        "print(new_fruits)\n",
        "\n",
        "# Remove more than one item\n",
        "\n",
        "market = [\"Apple\", \"banana\", \"cherry\", \"Kiwi\", \"grapes\", \"corn\", \"peas\"]\n",
        "print('Market List:', market)\n",
        "\n",
        "\n",
        "del market [0]\n",
        "print(market)\n",
        "\n",
        "del market [1:3]\n",
        "print(market)\n",
        "\n",
        "print('Length of this new market list is:', len(market))"
      ],
      "metadata": {
        "colab": {
          "base_uri": "https://localhost:8080/"
        },
        "id": "-6-q27k3KxO7",
        "outputId": "2e111b60-c930-4f7d-a6a6-76add966baeb"
      },
      "execution_count": 117,
      "outputs": [
        {
          "output_type": "stream",
          "name": "stdout",
          "text": [
            "['Apple', 'banana', 'cherry', 'Kiwi', 'grapes']\n",
            "['Apple', 'cherry', 'Kiwi', 'grapes']\n",
            "Market List: ['Apple', 'banana', 'cherry', 'Kiwi', 'grapes', 'corn', 'peas']\n",
            "['banana', 'cherry', 'Kiwi', 'grapes', 'corn', 'peas']\n",
            "['banana', 'grapes', 'corn', 'peas']\n",
            "Length of this new market list is: 4\n"
          ]
        }
      ]
    },
    {
      "cell_type": "markdown",
      "source": [],
      "metadata": {
        "id": "VE90hPknK_CJ"
      }
    },
    {
      "cell_type": "markdown",
      "source": [
        "# Sets"
      ],
      "metadata": {
        "id": "9tel-6b5MeXr"
      }
    },
    {
      "cell_type": "code",
      "source": [
        "time_in_days = 24\n",
        "new_name = \"hours\"\n",
        "\n",
        "def hours_in_days(number_of_days):\n",
        "  # conditional_check = number_of_days > 0\n",
        "  # type (conditional_check)\n",
        "  # print(type(conditional_check))\n",
        "      return f\"{number_of_days} is {number_of_days * time_in_days} {new_name}\"\n",
        "\n",
        "def validate_and_execute():\n",
        "    try:\n",
        "        casting_input = int(number_of_days_element)\n",
        "        if casting_input > 0:\n",
        "            calculated_in_hours = hours_in_days(int(casting_input))\n",
        "            print(calculated_in_hours)\n",
        "        elif casting_input == 0:\n",
        "            print(\"you entered 0, please provide a positive value.\")\n",
        "        else:\n",
        "            print (f\"The number you entered {number_of_days_element} is a negative number, please provide a positive value.\")\n",
        "    except:\n",
        "        print(\"This is not a valid number, dont mess up my code\")\n",
        "\n",
        "user_input = \"\"\n",
        "while user_input != \"exit\":\n",
        "    user_input = input(\"Enter the number of days, I will convert it to hours!\\n\")\n",
        "    list_of_days = user_input.split(\",\")\n",
        "    print(list_of_days)\n",
        "    print(set(list_of_days))\n",
        "    for number_of_days_element in set(list_of_days):  # Set function used. No duplicate outputs.\n",
        "        validate_and_execute()"
      ],
      "metadata": {
        "colab": {
          "base_uri": "https://localhost:8080/"
        },
        "id": "-pHawMsWMk_p",
        "outputId": "5d0d3416-a47e-4410-fd32-285176f44462"
      },
      "execution_count": 6,
      "outputs": [
        {
          "output_type": "stream",
          "name": "stdout",
          "text": [
            "Enter the number of days, I will convert it to hours!\n",
            "10,20,30,musa,-10, 0\n",
            "['10', '20', '30', 'musa', '-10', ' 0']\n",
            "{' 0', '30', '-10', 'musa', '20', '10'}\n",
            "you entered 0, please provide a positive value.\n",
            "30 is 720 hours\n",
            "The number you entered -10 is a negative number, please provide a positive value.\n",
            "This is not a valid number, dont mess up my code\n",
            "20 is 480 hours\n",
            "10 is 240 hours\n",
            "Enter the number of days, I will convert it to hours!\n",
            "exit\n",
            "['exit']\n",
            "{'exit'}\n",
            "This is not a valid number, dont mess up my code\n"
          ]
        }
      ]
    },
    {
      "cell_type": "code",
      "source": [
        "my_set = {\"January\", \"February\", \"March\"}\n",
        "print(my_set)\n",
        "\n",
        "my_set.add(\"April\")\n",
        "print(my_set)\n",
        "\n",
        "my_set.remove(\"January\")\n",
        "print(my_set)"
      ],
      "metadata": {
        "colab": {
          "base_uri": "https://localhost:8080/"
        },
        "id": "MMp_EEknQzlh",
        "outputId": "87d1d8ca-47e3-41e9-c602-172a87e4c05d"
      },
      "execution_count": 122,
      "outputs": [
        {
          "output_type": "stream",
          "name": "stdout",
          "text": [
            "{'February', 'March', 'January'}\n",
            "{'February', 'March', 'April', 'January'}\n",
            "{'February', 'March', 'April'}\n"
          ]
        }
      ]
    },
    {
      "cell_type": "markdown",
      "source": [
        "# Dictionary!"
      ],
      "metadata": {
        "id": "Ye213r-lp83W"
      }
    },
    {
      "cell_type": "code",
      "source": [
        "def days_to_unit(number_of_days, conversion_unit):\n",
        "      if conversion_unit == \"hours\":\n",
        "        return f\"{number_of_days} is {number_of_days * 24} hours\"\n",
        "      elif conversion_unit == \"minutes\":\n",
        "        return f\"{number_of_days} is {number_of_days * 24 * 60} minutes\"\n",
        "      else:\n",
        "        return \"unit not supported\"\n",
        "\n",
        "\n",
        "def validate_and_execute():\n",
        "    try:\n",
        "        casting_input = int(dictionary_of_day_units[\"days\"])\n",
        "        if casting_input > 0:\n",
        "            calculated_in_hours = days_to_unit(casting_input, dictionary_of_day_units[\"unit\"])\n",
        "            print(calculated_in_hours)\n",
        "        elif casting_input == 0:\n",
        "            print(\"you entered 0, please provide a positive value.\")\n",
        "        else:\n",
        "            print (f\"The number you entered {dictionary_of_day_units} is a negative number, please provide a positive value.\")\n",
        "    except:\n",
        "        print(\"This is not a valid number, dont mess up my code\")\n",
        "\n",
        "user_input = \"\"\n",
        "while user_input != \"exit:stop\":\n",
        "    user_input = input(\"Enter the number of days, and the conversion unit.\\n\")\n",
        "    days_and_unit = user_input.split(\":\")\n",
        "    print(days_and_unit)\n",
        "    dictionary_of_day_units = {\"days\": days_and_unit[0], \"unit\": days_and_unit[1]}\n",
        "    print(dictionary_of_day_units)\n",
        "    conversion_unit = dictionary_of_day_units[\"unit\"]\n",
        "    validate_and_execute()\n",
        "\n",
        "    # {\"days\": 20, \"unit\": \"hours\"}\n",
        "    # 20:hours\n",
        "    # 40:minutes\n",
        "    # List day_and_unit - [\"20\", \"hours\"]"
      ],
      "metadata": {
        "colab": {
          "base_uri": "https://localhost:8080/"
        },
        "id": "XxoAWp3KxRJ2",
        "outputId": "27bc53ac-d33a-4bed-fabc-23e1597b135b"
      },
      "execution_count": 12,
      "outputs": [
        {
          "output_type": "stream",
          "name": "stdout",
          "text": [
            "Enter the number of days, and the conversion unit.\n",
            "10:hours\n",
            "['10', 'hours']\n",
            "{'days': '10', 'unit': 'hours'}\n",
            "10 is 240 hours\n",
            "Enter the number of days, and the conversion unit.\n",
            "20:minutes\n",
            "['20', 'minutes']\n",
            "{'days': '20', 'unit': 'minutes'}\n",
            "20 is 28800 minutes\n",
            "Enter the number of days, and the conversion unit.\n",
            "exit:stop\n",
            "['exit', 'stop']\n",
            "{'days': 'exit', 'unit': 'stop'}\n",
            "This is not a valid number, dont mess up my code\n"
          ]
        }
      ]
    }
  ]
}