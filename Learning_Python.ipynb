{
  "nbformat": 4,
  "nbformat_minor": 0,
  "metadata": {
    "colab": {
      "provenance": [],
      "authorship_tag": "ABX9TyPNtj2v+LKxiM0Du7yxHf4E",
      "include_colab_link": true
    },
    "kernelspec": {
      "name": "python3",
      "display_name": "Python 3"
    },
    "language_info": {
      "name": "python"
    }
  },
  "cells": [
    {
      "cell_type": "markdown",
      "metadata": {
        "id": "view-in-github",
        "colab_type": "text"
      },
      "source": [
        "<a href=\"https://colab.research.google.com/github/Musalinux/Learning_Python/blob/main/Learning_Python.ipynb\" target=\"_parent\"><img src=\"https://colab.research.google.com/assets/colab-badge.svg\" alt=\"Open In Colab\"/></a>"
      ]
    },
    {
      "cell_type": "markdown",
      "source": [
        "# Hello World"
      ],
      "metadata": {
        "id": "zMdwE-_-M7r_"
      }
    },
    {
      "cell_type": "code",
      "execution_count": 2,
      "metadata": {
        "colab": {
          "base_uri": "https://localhost:8080/"
        },
        "id": "I6APsjhz96Yr",
        "outputId": "d03caef4-358d-48e6-b162-20e7e2b46058"
      },
      "outputs": [
        {
          "output_type": "stream",
          "name": "stdout",
          "text": [
            "Hello world\n",
            "10 20 Python AWS\n"
          ]
        }
      ],
      "source": [
        "print(\"Hello world\")\n",
        "\n",
        "x=10\n",
        "y= 20\n",
        "\n",
        "name = \"Python AWS\"\n",
        "\n",
        "print(x, y, name)"
      ]
    },
    {
      "cell_type": "markdown",
      "source": [
        "# Loops"
      ],
      "metadata": {
        "id": "ARYP2_f6-Tw2"
      }
    },
    {
      "cell_type": "code",
      "source": [
        "fruits = [\"Apple\", \"Mango\", \"Banana\", ]\n",
        "for fruit in fruits:\n",
        "  print(fruit)"
      ],
      "metadata": {
        "colab": {
          "base_uri": "https://localhost:8080/"
        },
        "id": "ZiLjfwq_-TPZ",
        "outputId": "9b46bbf7-d263-4636-aedc-0e1d4fdacc96"
      },
      "execution_count": 3,
      "outputs": [
        {
          "output_type": "stream",
          "name": "stdout",
          "text": [
            "Apple\n",
            "Mango\n",
            "Banana\n"
          ]
        }
      ]
    },
    {
      "cell_type": "markdown",
      "source": [
        "# Arithmetic Functions"
      ],
      "metadata": {
        "id": "-jiOqtSm-ox3"
      }
    },
    {
      "cell_type": "code",
      "source": [
        "def add(a, b):\n",
        "  return a + b\n",
        "\n",
        "def subtract(a, b):\n",
        "  return a - b\n",
        "\n",
        "def multiply(a, b):\n",
        "  return a * b\n",
        "\n",
        "def divide(a, b):\n",
        "  return a / b\n",
        "\n",
        "print(add(10, 20))\n",
        "print(subtract(20,5))\n",
        "print(multiply(2,5))\n",
        "print(divide(10,2))"
      ],
      "metadata": {
        "colab": {
          "base_uri": "https://localhost:8080/"
        },
        "id": "mDd57WeP-pyN",
        "outputId": "82034b58-e2f6-4718-b577-87a3007318d8"
      },
      "execution_count": 4,
      "outputs": [
        {
          "output_type": "stream",
          "name": "stdout",
          "text": [
            "30\n",
            "15\n",
            "10\n",
            "5.0\n"
          ]
        }
      ]
    },
    {
      "cell_type": "markdown",
      "source": [
        "# Reading a File"
      ],
      "metadata": {
        "id": "qTeCZSXx_R75"
      }
    },
    {
      "cell_type": "code",
      "source": [
        "with open(\"sample.txt\", \"r\") as file:\n",
        "  content = file.read()\n",
        "  print(content)"
      ],
      "metadata": {
        "id": "Iu7fQSbh_T2Y"
      },
      "execution_count": null,
      "outputs": []
    },
    {
      "cell_type": "markdown",
      "source": [
        "# String Concatenation"
      ],
      "metadata": {
        "id": "gHH03MXPGQOh"
      }
    },
    {
      "cell_type": "code",
      "source": [
        "print(\"10 days are \" + str(5) + \" minutes\" )  # This works up until v3.6\n",
        "print(f\"20 days are {10} minutes\")  ## This works from python v3.6 and above."
      ],
      "metadata": {
        "colab": {
          "base_uri": "https://localhost:8080/"
        },
        "id": "bPTSQhooFvgq",
        "outputId": "338f9387-f98c-4aa1-a988-a1a0aece5fc3"
      },
      "execution_count": 9,
      "outputs": [
        {
          "output_type": "stream",
          "name": "stdout",
          "text": [
            "10 days are 5 minutes\n",
            "20 days are 10 minutes\n"
          ]
        }
      ]
    },
    {
      "cell_type": "code",
      "source": [
        "x = 20*4*10\n",
        "\n",
        "name_of_unit = \"seconds\"\n",
        "\n",
        "print(f\"20 days are {20 * x} {name_of_unit}\")\n",
        "print(f\"30 days are {30 * x} {name_of_unit}\")\n",
        "print(f\"40 days are {40 * x} {name_of_unit}\")\n",
        "\n"
      ],
      "metadata": {
        "colab": {
          "base_uri": "https://localhost:8080/"
        },
        "id": "OrXyrNM1ca2k",
        "outputId": "1e1fd605-9fce-4b40-cbeb-c37c62434fab"
      },
      "execution_count": 11,
      "outputs": [
        {
          "output_type": "stream",
          "name": "stdout",
          "text": [
            "20 days are 16000 seconds\n",
            "30 days are 24000 seconds\n",
            "40 days are 32000 seconds\n"
          ]
        }
      ]
    },
    {
      "cell_type": "code",
      "source": [
        "x = 20*4*10\n",
        "\n",
        "name_of_unit = \"seconds\"\n",
        "\n",
        "def days_to_units(num_of_days, custom_message):\n",
        "  print(f\"{num_of_days} days are {num_of_days * x} {name_of_unit}\")\n",
        "  print(custom_message)\n",
        "\n",
        "days_to_units(10, \"Awesome\")\n",
        "days_to_units(20, \"LGTM\")\n",
        "days_to_units(30, \"yay\")\n",
        "days_to_units(40, \"lets go\")"
      ],
      "metadata": {
        "colab": {
          "base_uri": "https://localhost:8080/"
        },
        "id": "70SgYtbefoAH",
        "outputId": "1fdcca19-ce36-45b9-dac3-79c762691a88"
      },
      "execution_count": 18,
      "outputs": [
        {
          "output_type": "stream",
          "name": "stdout",
          "text": [
            "10 days are 8000 seconds\n",
            "Awesome\n",
            "20 days are 16000 seconds\n",
            "LGTM\n",
            "30 days are 24000 seconds\n",
            "yay\n",
            "40 days are 32000 seconds\n",
            "lets go\n"
          ]
        }
      ]
    },
    {
      "cell_type": "markdown",
      "source": [
        "# Input function"
      ],
      "metadata": {
        "id": "lDylkzlhoLOI"
      }
    },
    {
      "cell_type": "code",
      "source": [
        "x = 24*60\n",
        "\n",
        "name_of_unit = \"seconds\"\n",
        "\n",
        "def days_to_units(num_of_days, custom_message):\n",
        "  print(f\"{num_of_days} days are {num_of_days * x} {name_of_unit}\")\n",
        "  print(custom_message)\n",
        "\n",
        "\n",
        "my_var = days_to_units(20, \"Awesome\")"
      ],
      "metadata": {
        "colab": {
          "base_uri": "https://localhost:8080/"
        },
        "id": "Uy-PJIV-oKId",
        "outputId": "d00d23dc-11d3-4d40-fd4f-9694ece8194b"
      },
      "execution_count": 23,
      "outputs": [
        {
          "output_type": "stream",
          "name": "stdout",
          "text": [
            "Enter number of days and I wil convert to hours\n",
            "10\n",
            "10\n"
          ]
        }
      ]
    },
    {
      "cell_type": "markdown",
      "source": [
        "# Input Function."
      ],
      "metadata": {
        "id": "RxWJGeUsbSW4"
      }
    },
    {
      "cell_type": "code",
      "source": [
        "calculation_to_units = 24\n",
        "name_of_unit = \"hours\"\n",
        "\n",
        "def days_to_units(num_of_days):\n",
        "  return f\"{num_of_days} days are {num_of_days * calculation_to_units} {name_of_unit}\"\n",
        "\n",
        "\n",
        "user_input = input(\"Enter the number of days:\\n\")\n",
        "user_entered_input = int(user_input)\n",
        "calculated_value = days_to_units(user_entered_input)\n",
        "print(calculated_value)"
      ],
      "metadata": {
        "colab": {
          "base_uri": "https://localhost:8080/"
        },
        "id": "v67jtCuEoc9A",
        "outputId": "62484476-a918-4466-e37c-ff62ad5adfbe"
      },
      "execution_count": 8,
      "outputs": [
        {
          "output_type": "stream",
          "name": "stdout",
          "text": [
            "Enter the number of days:\n",
            "10\n",
            "10 days are 240 hours\n"
          ]
        }
      ]
    },
    {
      "cell_type": "code",
      "source": [
        "time_to_hours = 60\n",
        "unit_name = \"minutes\"\n",
        "\n",
        "def days_to_minutes(number_of_days):\n",
        "  return f\"{number_of_days} hour is {time_to_hours * number_of_days} {unit_name}\"\n",
        "\n",
        "user_input = input (\"Enter number of days:\\n\")\n",
        "modified_user_input = int(user_input)\n",
        "final_calculation = days_to_minutes(modified_user_input)\n",
        "print(final_calculation)"
      ],
      "metadata": {
        "colab": {
          "base_uri": "https://localhost:8080/"
        },
        "id": "Xvi6ezs4ea6l",
        "outputId": "8e8fe78f-208d-4872-8a96-969656bcd6c0"
      },
      "execution_count": 17,
      "outputs": [
        {
          "output_type": "stream",
          "name": "stdout",
          "text": [
            "Enter number of days:\n",
            "1\n",
            "1 hour is 60 minutes\n"
          ]
        }
      ]
    },
    {
      "cell_type": "markdown",
      "source": [
        "# My First program I fully wrote!"
      ],
      "metadata": {
        "id": "LYz5GwxrjGza"
      }
    },
    {
      "cell_type": "code",
      "source": [
        "time_in_days = 24\n",
        "new_name = \"hours\"\n",
        "\n",
        "def hours_in_days(number_of_days):\n",
        "  # conditional_check = number_of_days > 0\n",
        "  # type (conditional_check)\n",
        "  # print(type(conditional_check))\n",
        "      return f\"{number_of_days} is {number_of_days * time_in_days} {new_name}\"\n",
        "\n",
        "def validate_and_execute():\n",
        "    try:\n",
        "        casting_input = int(number_of_days_element)\n",
        "        if casting_input > 0:\n",
        "            calculated_in_hours = hours_in_days(int(casting_input))\n",
        "            print(calculated_in_hours)\n",
        "        elif casting_input == 0:\n",
        "            print(\"you entered 0, please provide a positive value.\")\n",
        "        else:\n",
        "            print (f\"The number you entered {number_of_days_element} is a negative number, please provide a positive value.\")\n",
        "    except:\n",
        "        print(\"This is not a valid number, dont mess up my code\")\n",
        "\n",
        "user_input = \"\"\n",
        "while user_input != \"exit\":\n",
        "    user_input = input(\"Enter the number of days, I will convert it to hours!\\n\")\n",
        "    for number_of_days_element in user_input.split(\",\"):\n",
        "        validate_and_execute()"
      ],
      "metadata": {
        "colab": {
          "base_uri": "https://localhost:8080/"
        },
        "id": "xwO8-aVNhXin",
        "outputId": "736b675b-0c0c-4f70-d512-40a670e0c8ab"
      },
      "execution_count": 101,
      "outputs": [
        {
          "output_type": "stream",
          "name": "stdout",
          "text": [
            "Enter the number of days, I will convert it to hours!\n",
            "10, 0, -10, musa\n",
            "10 is 240 hours\n",
            "you entered 0, please provide a positive value.\n",
            "The number you entered  -10 is a negative number, please provide a positive value.\n",
            "This is not a valid number, dont mess up my code\n",
            "Enter the number of days, I will convert it to hours!\n",
            "exit\n",
            "This is not a valid number, dont mess up my code\n"
          ]
        }
      ]
    },
    {
      "cell_type": "code",
      "source": [],
      "metadata": {
        "id": "fAZJJanUjJrP"
      },
      "execution_count": null,
      "outputs": []
    },
    {
      "cell_type": "markdown",
      "source": [
        "# List Function and its operations."
      ],
      "metadata": {
        "id": "azFwr3HMEQFz"
      }
    },
    {
      "cell_type": "code",
      "source": [
        "my_list = [\"January\", \"February\", \"March\"]\n",
        "print(my_list[1])"
      ],
      "metadata": {
        "colab": {
          "base_uri": "https://localhost:8080/"
        },
        "id": "vbeE1TbvERQq",
        "outputId": "f50f5a6a-fbee-4593-fb80-2e10cd27a3fb"
      },
      "execution_count": 102,
      "outputs": [
        {
          "output_type": "stream",
          "name": "stdout",
          "text": [
            "February\n"
          ]
        }
      ]
    },
    {
      "cell_type": "markdown",
      "source": [
        "# Add to list"
      ],
      "metadata": {
        "id": "FCrjDsmTJlyz"
      }
    },
    {
      "cell_type": "code",
      "source": [
        "my_list = [\"January\", \"February\", \"March\"]\n",
        "print(my_list)\n",
        "\n",
        "my_list.append(\"April\")\n",
        "print(my_list)\n",
        "\n",
        "\n",
        "## Add to specific index\n",
        "\n",
        "my_list.insert(2, 'Mango')\n",
        "print(my_list)\n",
        "\n",
        "fruits = [\"Apple\", \"banana\", \"cherry\"]\n",
        "\n",
        "my_list.extend(fruits)\n",
        "print(my_list)"
      ],
      "metadata": {
        "colab": {
          "base_uri": "https://localhost:8080/"
        },
        "id": "cur9YOk_JmiU",
        "outputId": "f316a7bb-bc8c-4e1b-d186-8fec4ef8f775"
      },
      "execution_count": 108,
      "outputs": [
        {
          "output_type": "stream",
          "name": "stdout",
          "text": [
            "['January', 'February', 'March']\n",
            "['January', 'February', 'March', 'April']\n",
            "['January', 'February', 'Mango', 'March', 'April']\n",
            "['January', 'February', 'Mango', 'March', 'April', 'Apple', 'banana', 'cherry']\n"
          ]
        }
      ]
    },
    {
      "cell_type": "markdown",
      "source": [
        "# Change Item"
      ],
      "metadata": {
        "id": "GdI8L64RKbQK"
      }
    },
    {
      "cell_type": "code",
      "source": [
        "fruits = [\"Apple\", \"banana\", \"cherry\"]\n",
        "print(fruits)\n",
        "\n",
        "fruits[1] = 'Watermelon'\n",
        "fruits[2] = 'pineapple'\n",
        "\n",
        "print(fruits)"
      ],
      "metadata": {
        "colab": {
          "base_uri": "https://localhost:8080/"
        },
        "id": "BHo9KKf2KdHr",
        "outputId": "5fed099d-a223-43e6-afcf-ef1aa83cfe03"
      },
      "execution_count": 109,
      "outputs": [
        {
          "output_type": "stream",
          "name": "stdout",
          "text": [
            "['Apple', 'banana', 'cherry']\n",
            "['Apple', 'Watermelon', 'pineapple']\n"
          ]
        }
      ]
    },
    {
      "cell_type": "markdown",
      "source": [
        "# Remove Item"
      ],
      "metadata": {
        "id": "21N1CyDCKvZm"
      }
    },
    {
      "cell_type": "code",
      "source": [
        "new_fruits = [\"Apple\", \"banana\", \"cherry\", \"Kiwi\", \"grapes\"]\n",
        "print(new_fruits)\n",
        "\n",
        "new_fruits.remove(\"banana\")\n",
        "print(new_fruits)\n",
        "\n",
        "# Remove more than one item\n",
        "\n",
        "market = [\"Apple\", \"banana\", \"cherry\", \"Kiwi\", \"grapes\", \"corn\", \"peas\"]\n",
        "print('Market List:', market)\n",
        "\n",
        "\n",
        "del market [0]\n",
        "print(market)\n",
        "\n",
        "del market [1:3]\n",
        "print(market)\n",
        "\n",
        "print('Length of this new market list is:', len(market))"
      ],
      "metadata": {
        "colab": {
          "base_uri": "https://localhost:8080/"
        },
        "id": "-6-q27k3KxO7",
        "outputId": "2e111b60-c930-4f7d-a6a6-76add966baeb"
      },
      "execution_count": 117,
      "outputs": [
        {
          "output_type": "stream",
          "name": "stdout",
          "text": [
            "['Apple', 'banana', 'cherry', 'Kiwi', 'grapes']\n",
            "['Apple', 'cherry', 'Kiwi', 'grapes']\n",
            "Market List: ['Apple', 'banana', 'cherry', 'Kiwi', 'grapes', 'corn', 'peas']\n",
            "['banana', 'cherry', 'Kiwi', 'grapes', 'corn', 'peas']\n",
            "['banana', 'grapes', 'corn', 'peas']\n",
            "Length of this new market list is: 4\n"
          ]
        }
      ]
    },
    {
      "cell_type": "markdown",
      "source": [],
      "metadata": {
        "id": "VE90hPknK_CJ"
      }
    },
    {
      "cell_type": "markdown",
      "source": [
        "# Sets"
      ],
      "metadata": {
        "id": "9tel-6b5MeXr"
      }
    },
    {
      "cell_type": "code",
      "source": [
        "time_in_days = 24\n",
        "new_name = \"hours\"\n",
        "\n",
        "def hours_in_days(number_of_days):\n",
        "  # conditional_check = number_of_days > 0\n",
        "  # type (conditional_check)\n",
        "  # print(type(conditional_check))\n",
        "      return f\"{number_of_days} is {number_of_days * time_in_days} {new_name}\"\n",
        "\n",
        "def validate_and_execute():\n",
        "    try:\n",
        "        casting_input = int(number_of_days_element)\n",
        "        if casting_input > 0:\n",
        "            calculated_in_hours = hours_in_days(int(casting_input))\n",
        "            print(calculated_in_hours)\n",
        "        elif casting_input == 0:\n",
        "            print(\"you entered 0, please provide a positive value.\")\n",
        "        else:\n",
        "            print (f\"The number you entered {number_of_days_element} is a negative number, please provide a positive value.\")\n",
        "    except:\n",
        "        print(\"This is not a valid number, dont mess up my code\")\n",
        "\n",
        "user_input = \"\"\n",
        "while user_input != \"exit\":\n",
        "    user_input = input(\"Enter the number of days, I will convert it to hours!\\n\")\n",
        "    list_of_days = user_input.split(\",\")\n",
        "    print(list_of_days)\n",
        "    print(set(list_of_days))\n",
        "    for number_of_days_element in set(list_of_days):  # Set function used. No duplicate outputs.\n",
        "        validate_and_execute()"
      ],
      "metadata": {
        "colab": {
          "base_uri": "https://localhost:8080/"
        },
        "id": "-pHawMsWMk_p",
        "outputId": "5d0d3416-a47e-4410-fd32-285176f44462"
      },
      "execution_count": 6,
      "outputs": [
        {
          "output_type": "stream",
          "name": "stdout",
          "text": [
            "Enter the number of days, I will convert it to hours!\n",
            "10,20,30,musa,-10, 0\n",
            "['10', '20', '30', 'musa', '-10', ' 0']\n",
            "{' 0', '30', '-10', 'musa', '20', '10'}\n",
            "you entered 0, please provide a positive value.\n",
            "30 is 720 hours\n",
            "The number you entered -10 is a negative number, please provide a positive value.\n",
            "This is not a valid number, dont mess up my code\n",
            "20 is 480 hours\n",
            "10 is 240 hours\n",
            "Enter the number of days, I will convert it to hours!\n",
            "exit\n",
            "['exit']\n",
            "{'exit'}\n",
            "This is not a valid number, dont mess up my code\n"
          ]
        }
      ]
    },
    {
      "cell_type": "code",
      "source": [
        "my_set = {\"January\", \"February\", \"March\"}\n",
        "print(my_set)\n",
        "\n",
        "my_set.add(\"April\")\n",
        "print(my_set)\n",
        "\n",
        "my_set.remove(\"January\")\n",
        "print(my_set)"
      ],
      "metadata": {
        "colab": {
          "base_uri": "https://localhost:8080/"
        },
        "id": "MMp_EEknQzlh",
        "outputId": "87d1d8ca-47e3-41e9-c602-172a87e4c05d"
      },
      "execution_count": 122,
      "outputs": [
        {
          "output_type": "stream",
          "name": "stdout",
          "text": [
            "{'February', 'March', 'January'}\n",
            "{'February', 'March', 'April', 'January'}\n",
            "{'February', 'March', 'April'}\n"
          ]
        }
      ]
    },
    {
      "cell_type": "markdown",
      "source": [
        "# Dictionary!"
      ],
      "metadata": {
        "id": "Ye213r-lp83W"
      }
    },
    {
      "cell_type": "code",
      "source": [
        "def days_to_unit(number_of_days, conversion_unit):\n",
        "      if conversion_unit == \"hours\":\n",
        "        return f\"{number_of_days} is {number_of_days * 24} hours\"\n",
        "      elif conversion_unit == \"minutes\":\n",
        "        return f\"{number_of_days} is {number_of_days * 24 * 60} minutes\"\n",
        "      else:\n",
        "        return \"unit not supported\"\n",
        "\n",
        "\n",
        "def validate_and_execute():\n",
        "    try:\n",
        "        casting_input = int(dictionary_of_day_units[\"days\"])\n",
        "        if casting_input > 0:\n",
        "            calculated_in_hours = days_to_unit(casting_input, dictionary_of_day_units[\"unit\"])\n",
        "            print(calculated_in_hours)\n",
        "        elif casting_input == 0:\n",
        "            print(\"you entered 0, please provide a positive value.\")\n",
        "        else:\n",
        "            print (f\"The number you entered {dictionary_of_day_units} is a negative number, please provide a positive value.\")\n",
        "    except:\n",
        "        print(\"This is not a valid number, dont mess up my code\")\n",
        "\n",
        "user_input = \"\"\n",
        "while user_input != \"exit:stop\":\n",
        "    user_input = input(\"Enter the number of days, and the conversion unit.\\n\")\n",
        "    days_and_unit = user_input.split(\":\")\n",
        "    print(days_and_unit)\n",
        "    dictionary_of_day_units = {\"days\": days_and_unit[0], \"unit\": days_and_unit[1]}\n",
        "    print(dictionary_of_day_units)\n",
        "    conversion_unit = dictionary_of_day_units[\"unit\"]\n",
        "    validate_and_execute()\n",
        "\n",
        "    # {\"days\": 20, \"unit\": \"hours\"}\n",
        "    # 20:hours\n",
        "    # 40:minutes\n",
        "    # List day_and_unit - [\"20\", \"hours\"]"
      ],
      "metadata": {
        "colab": {
          "base_uri": "https://localhost:8080/"
        },
        "id": "XxoAWp3KxRJ2",
        "outputId": "27bc53ac-d33a-4bed-fabc-23e1597b135b"
      },
      "execution_count": 12,
      "outputs": [
        {
          "output_type": "stream",
          "name": "stdout",
          "text": [
            "Enter the number of days, and the conversion unit.\n",
            "10:hours\n",
            "['10', 'hours']\n",
            "{'days': '10', 'unit': 'hours'}\n",
            "10 is 240 hours\n",
            "Enter the number of days, and the conversion unit.\n",
            "20:minutes\n",
            "['20', 'minutes']\n",
            "{'days': '20', 'unit': 'minutes'}\n",
            "20 is 28800 minutes\n",
            "Enter the number of days, and the conversion unit.\n",
            "exit:stop\n",
            "['exit', 'stop']\n",
            "{'days': 'exit', 'unit': 'stop'}\n",
            "This is not a valid number, dont mess up my code\n"
          ]
        }
      ]
    },
    {
      "cell_type": "code",
      "source": [
        "# Swapping 2 numbers without a vairable.\n",
        "\n",
        "def swap_number(num1, num2):\n",
        "    if num1 < num2:\n",
        "        print(\"Here is the list of items you have given\", num1, num2)\n",
        "        num2 = num2 + num1 # 30\n",
        "        num1 = num2 - num1 # 20\n",
        "        num2 = num2 - num1 #\n",
        "        print(\"Here is the swapped list\", num1, num2)\n",
        "    elif num1 > num2:\n",
        "        print(\"Here is the list of items you have given\", num1, num2)\n",
        "        num1 = num1 + num2\n",
        "        num2 = num1 - num2\n",
        "        num1 = num1 - num2\n",
        "        print(\"Here is the swapped list\", num1, num2)\n",
        "\n",
        "user_input = input(\"Enter 2 numbers you want to swap, I will do it for you!\")\n",
        "add_input_to_list = user_input.split(\",\")\n",
        "print(add_input_to_list)\n",
        "num1 = int(add_input_to_list[0])\n",
        "num2 = int(add_input_to_list[1])\n",
        "swap_number(num1, num2)"
      ],
      "metadata": {
        "colab": {
          "base_uri": "https://localhost:8080/"
        },
        "id": "WwRRrOnV5Tqy",
        "outputId": "55bfca1c-0901-4b3c-bb5f-084c5d90923d"
      },
      "execution_count": 16,
      "outputs": [
        {
          "output_type": "stream",
          "name": "stdout",
          "text": [
            "Enter 2 numbers you want to swap, I will do it for you!123, 564\n",
            "['123', ' 564']\n",
            "Here is the list of items you have given 123 564\n",
            "Here is the swapped list 564 123\n"
          ]
        }
      ]
    },
    {
      "cell_type": "code",
      "source": [
        "# Average of 2 two numbers\n",
        "# basic average is (num1 + num2)/2.\n",
        "\n",
        "x = 10\n",
        "y = 20\n",
        "\n",
        "def calculate_average():\n",
        "    average = (x + y)/2\n",
        "    print(\"The average of the given two numbers is:\", average)\n",
        "\n",
        "calculate_average()"
      ],
      "metadata": {
        "colab": {
          "base_uri": "https://localhost:8080/"
        },
        "id": "8lepKrjWLb5Z",
        "outputId": "a5ca4ce6-08f2-448b-f498-841d93042500"
      },
      "execution_count": 6,
      "outputs": [
        {
          "output_type": "stream",
          "name": "stdout",
          "text": [
            "The average of the given two numbers is: 15.0\n"
          ]
        }
      ]
    },
    {
      "cell_type": "markdown",
      "source": [
        "# Average of numbers"
      ],
      "metadata": {
        "id": "51NM5QM9Wwjg"
      }
    },
    {
      "cell_type": "code",
      "source": [
        "def collect_input(totalNumbers):\n",
        "      print (\"Please enter\", totalNumbers, \"numbers, and I will calculate the average for you!\")\n",
        "      for i in range (0, totalNumbers):\n",
        "          ele = float(input())\n",
        "          mylist.append(ele)\n",
        "\n",
        "def calculate_average():\n",
        "    total = 0\n",
        "    for i in range (0, len(mylist)):\n",
        "        total = total + mylist[i]\n",
        "    return (total/totalNumbers)\n",
        "\n",
        "\n",
        "\n",
        "mylist = []\n",
        "totalNumbers = int(input(\"Average of how many numbers?\\n \"))\n",
        "collect_input(totalNumbers)\n",
        "\n",
        "average = calculate_average()\n",
        "print (f\"Average of the {totalNumbers} numbers5 is {average}\")"
      ],
      "metadata": {
        "colab": {
          "base_uri": "https://localhost:8080/"
        },
        "id": "Wor3gzngScsn",
        "outputId": "65ad1dfe-aba3-4972-8822-8b8af890af1a"
      },
      "execution_count": 19,
      "outputs": [
        {
          "output_type": "stream",
          "name": "stdout",
          "text": [
            "Average of how many numbers?\n",
            " 3\n",
            "Please enter 3 numbers, and I will calculate the average for you!\n",
            "1\n",
            "1\n",
            "1\n",
            "Average of the 3 numbers5 is 1.0\n"
          ]
        }
      ]
    },
    {
      "cell_type": "markdown",
      "source": [
        "# Fibonacci Series (Iterative)"
      ],
      "metadata": {
        "id": "yUBxx-iwW0bx"
      }
    },
    {
      "cell_type": "code",
      "source": [
        "# Recursion = program where function calls itself again and again directly or indirectly.\n",
        "# Using Recursive algorithms, we can solve many problems.\n",
        "\n",
        "# Fibonacci Series: 0, 1, 1, 2, 3, 5, 8, 13, 21, 34..\n",
        "\n",
        "index = int(input((\"Enter the index till which you want me to write a Fibonacci Series\\n\")))\n",
        "\n",
        "FirstNumber = 0\n",
        "SecondNumber = 1\n",
        "temp = 0\n",
        "\n",
        "print (FirstNumber)\n",
        "print (SecondNumber)\n",
        "for i in range (0, index):\n",
        "    temp = FirstNumber + SecondNumber\n",
        "    FirstNumber = SecondNumber\n",
        "    SecondNumber = temp\n",
        "    print (temp)"
      ],
      "metadata": {
        "colab": {
          "base_uri": "https://localhost:8080/"
        },
        "id": "h6iLgklVW4ot",
        "outputId": "0d061a1e-1cd2-48ac-807c-775f93dd562d"
      },
      "execution_count": 32,
      "outputs": [
        {
          "output_type": "stream",
          "name": "stdout",
          "text": [
            "Enter the index till which you want me to write a Fibonacci Series\n",
            "8\n",
            "0\n",
            "1\n",
            "1\n",
            "2\n",
            "3\n",
            "5\n",
            "8\n",
            "13\n",
            "21\n",
            "34\n"
          ]
        }
      ]
    },
    {
      "cell_type": "markdown",
      "source": [
        "# Fibonacci series (Recursive)"
      ],
      "metadata": {
        "id": "Xba9lmchZptK"
      }
    },
    {
      "cell_type": "code",
      "source": [
        "# Recursion = program where function calls itself again and again directly or indirectly.\n",
        "# Using Recursive algorithms, we can solve many problems.\n",
        "\n",
        "# Fibonacci Series: 0, 1, 1, 2, 3, 5, 8, 13, 21, 34..\n",
        "\n",
        "def calculate_Fibonacci(i):\n",
        "    if i == 0:\n",
        "        return 0\n",
        "    elif i == 1:\n",
        "        return 1\n",
        "    else:\n",
        "        return calculate_Fibonacci(i-2) + calculate_Fibonacci(i-1)\n",
        "\n",
        "index = int(input(\"Please enter the index till where you want me to write the series: \"))\n",
        "if index <= 0:\n",
        "    print (\"Please enter a positive number\")\n",
        "else:\n",
        "    for i in range (0, index):\n",
        "        print (calculate_Fibonacci(i))\n"
      ],
      "metadata": {
        "colab": {
          "base_uri": "https://localhost:8080/"
        },
        "id": "afdi-L7XZso-",
        "outputId": "d62022a5-daf8-47f7-ba12-a75dba1860fc"
      },
      "execution_count": 44,
      "outputs": [
        {
          "output_type": "stream",
          "name": "stdout",
          "text": [
            "Please enter the index till where you want me to write the series: 10\n",
            "0\n",
            "1\n",
            "1\n",
            "2\n",
            "3\n",
            "5\n",
            "8\n",
            "13\n",
            "21\n",
            "34\n"
          ]
        }
      ]
    },
    {
      "cell_type": "code",
      "source": [
        "# Recursion = program where function calls itself again and again directly or indirectly.\n",
        "# Using Recursive algorithms, we can solve many problems.\n",
        "\n",
        "# Fibonacci Series: 0, 1, 1, 2, 3, 5, 8, 13, 21, 34..\n",
        "\n",
        "\n",
        "def fibonacci(i):\n",
        "    if i == 0:\n",
        "        return 0\n",
        "    elif i == 1:\n",
        "        return 1\n",
        "    else:\n",
        "        return fibonacci(i-2) + fibonacci(i-1)\n",
        "\n",
        "\n",
        "\n",
        "index = int (input(\"Enter the index till where you want the Fibonacci series: \"))\n",
        "if index <=0:\n",
        "    print (\"Please input a positve number\")\n",
        "else:\n",
        "    for i in range (0,index):\n",
        "      print (fibonacci(i))\n",
        ""
      ],
      "metadata": {
        "colab": {
          "base_uri": "https://localhost:8080/"
        },
        "id": "vOf7oo9Mc7wb",
        "outputId": "f6986501-c820-4fa9-c345-36c91242ee47"
      },
      "execution_count": 49,
      "outputs": [
        {
          "output_type": "stream",
          "name": "stdout",
          "text": [
            "Enter the index till where you want the Fibonacci series: 10\n",
            "0\n",
            "1\n",
            "1\n",
            "2\n",
            "3\n",
            "5\n",
            "8\n",
            "13\n",
            "21\n",
            "34\n"
          ]
        }
      ]
    },
    {
      "cell_type": "markdown",
      "source": [
        "# Length of a string without len function"
      ],
      "metadata": {
        "id": "1xsvCVgPmiAq"
      }
    },
    {
      "cell_type": "code",
      "source": [
        "# We need to find the length of a string without using the \"len\" in-built function.\n",
        "# To do this, we will be making our own method of finding the length of a given string.\n",
        "\n",
        "\n",
        "def str_length(myString):\n",
        "    len_count = 0\n",
        "    for i in myString:\n",
        "        len_count = len_count + 1\n",
        "    return len_count\n",
        "''\n",
        "myString = input(\"Enter the string you want to find the length of\\n \")\n",
        "\n",
        "str_length = str_length(myString)\n",
        "print (\"This is the length of the given string: \", str_length)"
      ],
      "metadata": {
        "colab": {
          "base_uri": "https://localhost:8080/"
        },
        "id": "6gMp0ouUmnjN",
        "outputId": "a1de3603-c595-4d26-c38c-515239be02e5"
      },
      "execution_count": 18,
      "outputs": [
        {
          "output_type": "stream",
          "name": "stdout",
          "text": [
            "Enter the string you want to find the length of\n",
            " Musaddik\n",
            "This is the length of the given string:  8\n"
          ]
        }
      ]
    },
    {
      "cell_type": "code",
      "source": [
        "# We need to find the length of a string without using the \"len\" in-built function.\n",
        "# To do this, we will be making our own method of finding the length of a given string.\n",
        "\n",
        "\n",
        "def strlength(myString):\n",
        "    return len(myString)\n",
        "\n",
        "\n",
        "myString = input(\"Enter the string you want to find the length of\\n \")\n",
        "\n",
        "str_length = strlength(myString)\n",
        "print (\"This is the length of the given string: \", str_length)"
      ],
      "metadata": {
        "colab": {
          "base_uri": "https://localhost:8080/"
        },
        "id": "egrsYut9qO6Z",
        "outputId": "867d603c-4b46-4795-e3db-2c14f92d207a"
      },
      "execution_count": 22,
      "outputs": [
        {
          "output_type": "stream",
          "name": "stdout",
          "text": [
            "Enter the string you want to find the length of\n",
            " musa is musa\n",
            "This is the length of the given string:  12\n"
          ]
        }
      ]
    },
    {
      "cell_type": "markdown",
      "source": [
        "## Reverse of a string"
      ],
      "metadata": {
        "id": "0YtVTi2erOB4"
      }
    },
    {
      "cell_type": "code",
      "source": [
        "def str_rev (Mystring):\n",
        "    reverseString = \"\"\n",
        "    for i in MyString:\n",
        "        reverseString = i + reverseString\n",
        "    return reverseString\n",
        "\n",
        "MyString = input(\"Enter a string and I will reverse it for you: \\n\")\n",
        "\n",
        "reversed_string = str_rev(MyString)\n",
        "print (f\"Reverse of {MyString} is '{reversed_string}' \")"
      ],
      "metadata": {
        "colab": {
          "base_uri": "https://localhost:8080/"
        },
        "id": "6cWMmYIorSlD",
        "outputId": "f5472748-b632-4f89-c67b-bcd684c35ba3"
      },
      "execution_count": 28,
      "outputs": [
        {
          "output_type": "stream",
          "name": "stdout",
          "text": [
            "Enter a string and I will reverse it for you: \n",
            "Hello, My name is Musaddik\n",
            "Reverse of Hello, My name is Musaddik is 'kiddasuM si eman yM ,olleH' \n"
          ]
        }
      ]
    }
  ]
}