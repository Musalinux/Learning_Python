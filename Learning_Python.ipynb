{
  "nbformat": 4,
  "nbformat_minor": 0,
  "metadata": {
    "colab": {
      "provenance": [],
      "authorship_tag": "ABX9TyMHbyioa86Ubg8RTxWhCC2p",
      "include_colab_link": true
    },
    "kernelspec": {
      "name": "python3",
      "display_name": "Python 3"
    },
    "language_info": {
      "name": "python"
    }
  },
  "cells": [
    {
      "cell_type": "markdown",
      "metadata": {
        "id": "view-in-github",
        "colab_type": "text"
      },
      "source": [
        "<a href=\"https://colab.research.google.com/github/Musalinux/Learning_Python/blob/main/Learning_Python.ipynb\" target=\"_parent\"><img src=\"https://colab.research.google.com/assets/colab-badge.svg\" alt=\"Open In Colab\"/></a>"
      ]
    },
    {
      "cell_type": "code",
      "execution_count": 2,
      "metadata": {
        "colab": {
          "base_uri": "https://localhost:8080/"
        },
        "id": "I6APsjhz96Yr",
        "outputId": "d03caef4-358d-48e6-b162-20e7e2b46058"
      },
      "outputs": [
        {
          "output_type": "stream",
          "name": "stdout",
          "text": [
            "Hello world\n",
            "10 20 Python AWS\n"
          ]
        }
      ],
      "source": [
        "print(\"Hello world\")\n",
        "\n",
        "x=10\n",
        "y= 20\n",
        "\n",
        "name = \"Python AWS\"\n",
        "\n",
        "print(x, y, name)"
      ]
    },
    {
      "cell_type": "markdown",
      "source": [
        "Loops"
      ],
      "metadata": {
        "id": "ARYP2_f6-Tw2"
      }
    },
    {
      "cell_type": "code",
      "source": [
        "fruits = [\"Apple\", \"Mango\", \"Banana\", ]\n",
        "for fruit in fruits:\n",
        "  print(fruit)"
      ],
      "metadata": {
        "colab": {
          "base_uri": "https://localhost:8080/"
        },
        "id": "ZiLjfwq_-TPZ",
        "outputId": "9b46bbf7-d263-4636-aedc-0e1d4fdacc96"
      },
      "execution_count": 3,
      "outputs": [
        {
          "output_type": "stream",
          "name": "stdout",
          "text": [
            "Apple\n",
            "Mango\n",
            "Banana\n"
          ]
        }
      ]
    },
    {
      "cell_type": "markdown",
      "source": [
        "Functions"
      ],
      "metadata": {
        "id": "-jiOqtSm-ox3"
      }
    },
    {
      "cell_type": "code",
      "source": [
        "def add(a, b):\n",
        "  return a + b\n",
        "\n",
        "def subtract(a, b):\n",
        "  return a - b\n",
        "\n",
        "def multiply(a, b):\n",
        "  return a * b\n",
        "\n",
        "def divide(a, b):\n",
        "  return a / b\n",
        "\n",
        "print(add(10, 20))\n",
        "print(subtract(20,5))\n",
        "print(multiply(2,5))\n",
        "print(divide(10,2))"
      ],
      "metadata": {
        "colab": {
          "base_uri": "https://localhost:8080/"
        },
        "id": "mDd57WeP-pyN",
        "outputId": "82034b58-e2f6-4718-b577-87a3007318d8"
      },
      "execution_count": 4,
      "outputs": [
        {
          "output_type": "stream",
          "name": "stdout",
          "text": [
            "30\n",
            "15\n",
            "10\n",
            "5.0\n"
          ]
        }
      ]
    },
    {
      "cell_type": "markdown",
      "source": [
        "Reading a File"
      ],
      "metadata": {
        "id": "qTeCZSXx_R75"
      }
    },
    {
      "cell_type": "code",
      "source": [
        "with open(\"sample.txt\", \"r\") as file:\n",
        "  content = file.read()\n",
        "  print(content)"
      ],
      "metadata": {
        "colab": {
          "base_uri": "https://localhost:8080/",
          "height": 176
        },
        "id": "Iu7fQSbh_T2Y",
        "outputId": "4e65ff90-1245-4758-c193-e3b26e6c87c1"
      },
      "execution_count": 5,
      "outputs": [
        {
          "output_type": "error",
          "ename": "FileNotFoundError",
          "evalue": "[Errno 2] No such file or directory: 'sample.txt'",
          "traceback": [
            "\u001b[0;31m---------------------------------------------------------------------------\u001b[0m",
            "\u001b[0;31mFileNotFoundError\u001b[0m                         Traceback (most recent call last)",
            "\u001b[0;32m<ipython-input-5-eb210f88c42b>\u001b[0m in \u001b[0;36m<cell line: 0>\u001b[0;34m()\u001b[0m\n\u001b[0;32m----> 1\u001b[0;31m \u001b[0;32mwith\u001b[0m \u001b[0mopen\u001b[0m\u001b[0;34m(\u001b[0m\u001b[0;34m\"sample.txt\"\u001b[0m\u001b[0;34m,\u001b[0m \u001b[0;34m\"r\"\u001b[0m\u001b[0;34m)\u001b[0m \u001b[0;32mas\u001b[0m \u001b[0mfile\u001b[0m\u001b[0;34m:\u001b[0m\u001b[0;34m\u001b[0m\u001b[0;34m\u001b[0m\u001b[0m\n\u001b[0m\u001b[1;32m      2\u001b[0m   \u001b[0mcontent\u001b[0m \u001b[0;34m=\u001b[0m \u001b[0mfile\u001b[0m\u001b[0;34m.\u001b[0m\u001b[0mread\u001b[0m\u001b[0;34m(\u001b[0m\u001b[0;34m)\u001b[0m\u001b[0;34m\u001b[0m\u001b[0;34m\u001b[0m\u001b[0m\n\u001b[1;32m      3\u001b[0m   \u001b[0mprint\u001b[0m\u001b[0;34m(\u001b[0m\u001b[0mcontent\u001b[0m\u001b[0;34m)\u001b[0m\u001b[0;34m\u001b[0m\u001b[0;34m\u001b[0m\u001b[0m\n",
            "\u001b[0;31mFileNotFoundError\u001b[0m: [Errno 2] No such file or directory: 'sample.txt'"
          ]
        }
      ]
    },
    {
      "cell_type": "markdown",
      "source": [
        "String Concatenation"
      ],
      "metadata": {
        "id": "gHH03MXPGQOh"
      }
    },
    {
      "cell_type": "code",
      "source": [
        "print(\"10 days are \" + str(5) + \" minutes\" )  # This works up until v3.6\n",
        "print(f\"20 days are {10} minutes\")  ## This works from python v3.6 and above."
      ],
      "metadata": {
        "colab": {
          "base_uri": "https://localhost:8080/"
        },
        "id": "bPTSQhooFvgq",
        "outputId": "338f9387-f98c-4aa1-a988-a1a0aece5fc3"
      },
      "execution_count": 9,
      "outputs": [
        {
          "output_type": "stream",
          "name": "stdout",
          "text": [
            "10 days are 5 minutes\n",
            "20 days are 10 minutes\n"
          ]
        }
      ]
    },
    {
      "cell_type": "code",
      "source": [
        "x = 20*4*10\n",
        "\n",
        "name_of_unit = \"seconds\"\n",
        "\n",
        "print(f\"20 days are {20 * x} {name_of_unit}\")\n",
        "print(f\"30 days are {30 * x} {name_of_unit}\")\n",
        "print(f\"40 days are {40 * x} {name_of_unit}\")\n",
        "\n"
      ],
      "metadata": {
        "colab": {
          "base_uri": "https://localhost:8080/"
        },
        "id": "OrXyrNM1ca2k",
        "outputId": "1e1fd605-9fce-4b40-cbeb-c37c62434fab"
      },
      "execution_count": 11,
      "outputs": [
        {
          "output_type": "stream",
          "name": "stdout",
          "text": [
            "20 days are 16000 seconds\n",
            "30 days are 24000 seconds\n",
            "40 days are 32000 seconds\n"
          ]
        }
      ]
    },
    {
      "cell_type": "code",
      "source": [
        "x = 20*4*10\n",
        "\n",
        "name_of_unit = \"seconds\"\n",
        "\n",
        "def days_to_units(num_of_days, custom_message):\n",
        "  print(f\"{num_of_days} days are {num_of_days * x} {name_of_unit}\")\n",
        "  print(custom_message)\n",
        "\n",
        "days_to_units(10, \"Awesome\")\n",
        "days_to_units(20, \"LGTM\")\n",
        "days_to_units(30, \"yay\")\n",
        "days_to_units(40, \"lets go\")"
      ],
      "metadata": {
        "colab": {
          "base_uri": "https://localhost:8080/"
        },
        "id": "70SgYtbefoAH",
        "outputId": "1fdcca19-ce36-45b9-dac3-79c762691a88"
      },
      "execution_count": 18,
      "outputs": [
        {
          "output_type": "stream",
          "name": "stdout",
          "text": [
            "10 days are 8000 seconds\n",
            "Awesome\n",
            "20 days are 16000 seconds\n",
            "LGTM\n",
            "30 days are 24000 seconds\n",
            "yay\n",
            "40 days are 32000 seconds\n",
            "lets go\n"
          ]
        }
      ]
    },
    {
      "cell_type": "markdown",
      "source": [
        "Input function"
      ],
      "metadata": {
        "id": "lDylkzlhoLOI"
      }
    },
    {
      "cell_type": "code",
      "source": [
        "x = 24*60\n",
        "\n",
        "name_of_unit = \"seconds\"\n",
        "\n",
        "def days_to_units(num_of_days, custom_message):\n",
        "  print(f\"{num_of_days} days are {num_of_days * x} {name_of_unit}\")\n",
        "  print(custom_message)\n",
        "\n",
        "\n",
        "my_var = days_to_units(20, \"Awesome\")"
      ],
      "metadata": {
        "colab": {
          "base_uri": "https://localhost:8080/"
        },
        "id": "Uy-PJIV-oKId",
        "outputId": "d00d23dc-11d3-4d40-fd4f-9694ece8194b"
      },
      "execution_count": 23,
      "outputs": [
        {
          "output_type": "stream",
          "name": "stdout",
          "text": [
            "Enter number of days and I wil convert to hours\n",
            "10\n",
            "10\n"
          ]
        }
      ]
    },
    {
      "cell_type": "markdown",
      "source": [
        "Input Function."
      ],
      "metadata": {
        "id": "RxWJGeUsbSW4"
      }
    },
    {
      "cell_type": "code",
      "source": [
        "calculation_to_units = 24\n",
        "name_of_unit = \"hours\"\n",
        "\n",
        "def days_to_units(num_of_days):\n",
        "  return f\"{num_of_days} days are {num_of_days * calculation_to_units} {name_of_unit}\"\n",
        "\n",
        "\n",
        "user_input = input(\"Enter the number of days:\\n\")\n",
        "user_entered_input = int(user_input)\n",
        "calculated_value = days_to_units(user_entered_input)\n",
        "print(calculated_value)"
      ],
      "metadata": {
        "colab": {
          "base_uri": "https://localhost:8080/"
        },
        "id": "v67jtCuEoc9A",
        "outputId": "62484476-a918-4466-e37c-ff62ad5adfbe"
      },
      "execution_count": 8,
      "outputs": [
        {
          "output_type": "stream",
          "name": "stdout",
          "text": [
            "Enter the number of days:\n",
            "10\n",
            "10 days are 240 hours\n"
          ]
        }
      ]
    },
    {
      "cell_type": "code",
      "source": [
        "time_to_hours = 60\n",
        "unit_name = \"minutes\"\n",
        "\n",
        "def days_to_minutes(number_of_days):\n",
        "  return f\"{number_of_days} hour is {time_to_hours * number_of_days} {unit_name}\"\n",
        "\n",
        "user_input = input (\"Enter number of days:\\n\")\n",
        "modified_user_input = int(user_input)\n",
        "final_calculation = days_to_minutes(modified_user_input)\n",
        "print(final_calculation)"
      ],
      "metadata": {
        "colab": {
          "base_uri": "https://localhost:8080/"
        },
        "id": "Xvi6ezs4ea6l",
        "outputId": "8e8fe78f-208d-4872-8a96-969656bcd6c0"
      },
      "execution_count": 17,
      "outputs": [
        {
          "output_type": "stream",
          "name": "stdout",
          "text": [
            "Enter number of days:\n",
            "1\n",
            "1 hour is 60 minutes\n"
          ]
        }
      ]
    },
    {
      "cell_type": "markdown",
      "source": [
        "My First program I fully wrote!"
      ],
      "metadata": {
        "id": "LYz5GwxrjGza"
      }
    },
    {
      "cell_type": "code",
      "source": [
        "time_in_days = 24\n",
        "new_name = \"hours\"\n",
        "\n",
        "def hours_in_days(number_of_days):\n",
        "  # conditional_check = number_of_days > 0\n",
        "  # type (conditional_check)\n",
        "  # print(type(conditional_check))\n",
        "      return f\"{number_of_days} is {number_of_days * time_in_days} {new_name}\"\n",
        "\n",
        "def validate_and_execute():\n",
        "    try:\n",
        "        casting_input = int(number_of_days_element)\n",
        "        if casting_input > 0:\n",
        "            calculated_in_hours = hours_in_days(int(casting_input))\n",
        "            print(calculated_in_hours)\n",
        "        elif casting_input == 0:\n",
        "            print(\"you entered 0, please provide a positive value.\")\n",
        "        else:\n",
        "            print (f\"The number you entered {number_of_days_element} is a negative number, please provide a positive value.\")\n",
        "    except:\n",
        "        print(\"This is not a valid number, dont mess up my code\")\n",
        "\n",
        "user_input = \"\"\n",
        "while user_input != \"exit\":\n",
        "    user_input = input(\"Enter the number of days, I will convert it to hours!\\n\")\n",
        "    for number_of_days_element in user_input.split(\",\"):\n",
        "        validate_and_execute()"
      ],
      "metadata": {
        "colab": {
          "base_uri": "https://localhost:8080/"
        },
        "id": "xwO8-aVNhXin",
        "outputId": "736b675b-0c0c-4f70-d512-40a670e0c8ab"
      },
      "execution_count": 101,
      "outputs": [
        {
          "output_type": "stream",
          "name": "stdout",
          "text": [
            "Enter the number of days, I will convert it to hours!\n",
            "10, 0, -10, musa\n",
            "10 is 240 hours\n",
            "you entered 0, please provide a positive value.\n",
            "The number you entered  -10 is a negative number, please provide a positive value.\n",
            "This is not a valid number, dont mess up my code\n",
            "Enter the number of days, I will convert it to hours!\n",
            "exit\n",
            "This is not a valid number, dont mess up my code\n"
          ]
        }
      ]
    },
    {
      "cell_type": "code",
      "source": [],
      "metadata": {
        "id": "fAZJJanUjJrP"
      },
      "execution_count": null,
      "outputs": []
    }
  ]
}